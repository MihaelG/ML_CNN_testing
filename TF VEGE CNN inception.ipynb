{
 "cells": [
  {
   "cell_type": "code",
   "execution_count": 1,
   "metadata": {},
   "outputs": [],
   "source": [
    "# To support both python 2 and python 3\n",
    "from __future__ import division, print_function, unicode_literals\n",
    "\n",
    "# Common imports\n",
    "import numpy as np\n",
    "import os\n",
    "\n",
    "# to make this notebook's output stable across runs\n",
    "def reset_graph(seed=42):\n",
    "    tf.reset_default_graph()\n",
    "    tf.set_random_seed(seed)\n",
    "    np.random.seed(seed)\n",
    "\n",
    "# To plot pretty figures\n",
    "%matplotlib inline\n",
    "import matplotlib\n",
    "import matplotlib.pyplot as plt\n",
    "plt.rcParams['axes.labelsize'] = 14\n",
    "plt.rcParams['xtick.labelsize'] = 12\n",
    "plt.rcParams['ytick.labelsize'] = 12\n",
    "\n",
    "# Where to save the figures\n",
    "PROJECT_ROOT_DIR = \".\"\n",
    "CHAPTER_ID = \"deep\"\n",
    "\n",
    "def save_fig(fig_id, tight_layout=True):\n",
    "    path = os.path.join(PROJECT_ROOT_DIR, \"images\", CHAPTER_ID, fig_id + \".png\")\n",
    "    print(\"Saving figure\", fig_id)\n",
    "    if tight_layout:\n",
    "        plt.tight_layout()\n",
    "    plt.savefig(path, format='png', dpi=300)"
   ]
  },
  {
   "cell_type": "code",
   "execution_count": null,
   "metadata": {},
   "outputs": [],
   "source": []
  },
  {
   "cell_type": "code",
   "execution_count": null,
   "metadata": {},
   "outputs": [],
   "source": []
  },
  {
   "cell_type": "code",
   "execution_count": 2,
   "metadata": {},
   "outputs": [],
   "source": [
    "import tensorflow as tf"
   ]
  },
  {
   "cell_type": "code",
   "execution_count": 3,
   "metadata": {},
   "outputs": [
    {
     "name": "stdout",
     "output_type": "stream",
     "text": [
      "PRIPREMA PODATAKA\n",
      "length of the fixed array is  199400\n",
      "test :  ['V', '339', '201', '238', '278', '186', '298', '298', '253']\n"
     ]
    }
   ],
   "source": [
    "import csv\n",
    "\n",
    "from sklearn.model_selection import train_test_split\n",
    "from sklearn.svm import SVC\n",
    "from sklearn.metrics import accuracy_score\n",
    "\n",
    "# Common imports\n",
    "import numpy as np\n",
    "import os\n",
    "\n",
    "import tensorflow as tf\n",
    "\n",
    "\n",
    "# to make this notebook's output stable across runs\n",
    "# def reset_graph(seed=42):\n",
    "#     tf.reset_default_graph()\n",
    "#     tf.set_random_seed(seed)\n",
    "#     np.random.seed(seed)\n",
    "\n",
    "import time\n",
    "start = time.time()\n",
    "\n",
    "print ('PRIPREMA PODATAKA')\n",
    "vege_csv = csv.reader(open('vegetacija.csv', newline=''), delimiter=' ', quotechar='|')\n",
    "\n",
    "vege_array = []\n",
    "\n",
    "\n",
    "for row in vege_csv:\n",
    "\tred_array = []\n",
    "\titems = row[0].split(';')\n",
    "\tfor i in items:\n",
    "\t\tred_array.append(i)\n",
    "\n",
    "\tvege_array.append(red_array)\n",
    "\n",
    "\n",
    "klase = []\n",
    "values = []\n",
    "\n",
    "vege_array_fix = vege_array[:-4]\n",
    "\n",
    "print ('length of the fixed array is ', len (vege_array_fix))\n",
    "\n",
    "for r in vege_array_fix:\n",
    "    value_row = []\n",
    "    i = 0\n",
    "    while i < len(r):\n",
    "        if i == 0:\n",
    "            if r[i] == 'X':\n",
    "                klase.append(0)\n",
    "            if r[i] == 'V':\n",
    "                klase.append(1)\n",
    "            if r[i] == 'N':\n",
    "                klase.append(2)\n",
    "        else:\n",
    "            value_row.append(int(r[i]))\n",
    "        i = i + 1\n",
    "    values.append(value_row)\n",
    "\n",
    "print ('test : ', vege_array[10000])"
   ]
  },
  {
   "cell_type": "code",
   "execution_count": 4,
   "metadata": {},
   "outputs": [
    {
     "name": "stdout",
     "output_type": "stream",
     "text": [
      "<class 'list'>\n"
     ]
    }
   ],
   "source": [
    "print (type(vege_array[9000]))"
   ]
  },
  {
   "cell_type": "code",
   "execution_count": 5,
   "metadata": {},
   "outputs": [
    {
     "name": "stdout",
     "output_type": "stream",
     "text": [
      "1\n"
     ]
    }
   ],
   "source": [
    "print (klase[7777])"
   ]
  },
  {
   "cell_type": "code",
   "execution_count": 6,
   "metadata": {},
   "outputs": [
    {
     "name": "stdout",
     "output_type": "stream",
     "text": [
      "[358, 220, 262, 305, 213, 302, 289, 245]\n"
     ]
    }
   ],
   "source": [
    "print (values[7777])"
   ]
  },
  {
   "cell_type": "code",
   "execution_count": null,
   "metadata": {},
   "outputs": [],
   "source": []
  },
  {
   "cell_type": "code",
   "execution_count": 7,
   "metadata": {},
   "outputs": [
    {
     "name": "stdout",
     "output_type": "stream",
     "text": [
      "KREIRANJE GRAFA\n"
     ]
    }
   ],
   "source": [
    "\n",
    "print ('KREIRANJE GRAFA')\n",
    "reset_graph()\n",
    "\n",
    "train_x, test_x, train_y, test_y = train_test_split(values, klase, test_size=0.20)\n",
    "\n",
    "\n",
    "# n_inputs = 8 \n",
    "# n_hidden1 = 20\n",
    "# n_hidden2 = 10\n",
    "# n_hidden3 = 5\n",
    "# n_outputs = 3"
   ]
  },
  {
   "cell_type": "code",
   "execution_count": null,
   "metadata": {},
   "outputs": [],
   "source": []
  },
  {
   "cell_type": "code",
   "execution_count": 8,
   "metadata": {},
   "outputs": [],
   "source": [
    "\n",
    "# he_init = tf.variance_scaling_initializer()\n",
    "# hidden1 = tf.layers.dense(X, n_hidden1, activation=tf.nn.relu,\n",
    "#                           kernel_initializer=he_init, name=\"hidden1\")"
   ]
  },
  {
   "cell_type": "code",
   "execution_count": null,
   "metadata": {},
   "outputs": [],
   "source": []
  },
  {
   "cell_type": "code",
   "execution_count": null,
   "metadata": {},
   "outputs": [],
   "source": []
  },
  {
   "cell_type": "code",
   "execution_count": 9,
   "metadata": {},
   "outputs": [
    {
     "name": "stdout",
     "output_type": "stream",
     "text": [
      "dataset size is  199400\n",
      "x size is  159520\n",
      "y size is  159520\n",
      "x test size is  39880\n",
      "y test size is  39880\n"
     ]
    }
   ],
   "source": [
    "print ('dataset size is ', len(vege_array_fix))\n",
    "\n",
    "print ('x size is ', len(train_x))\n",
    "print ('y size is ', len(train_y))\n",
    "\n",
    "print ('x test size is ', len(test_x))\n",
    "print ('y test size is ', len(test_y))"
   ]
  },
  {
   "cell_type": "code",
   "execution_count": 10,
   "metadata": {},
   "outputs": [
    {
     "data": {
      "text/plain": [
       "[303, 165, 184, 197, 124, 257, 235, 203]"
      ]
     },
     "execution_count": 10,
     "metadata": {},
     "output_type": "execute_result"
    }
   ],
   "source": [
    "train_x[3]"
   ]
  },
  {
   "cell_type": "code",
   "execution_count": 11,
   "metadata": {},
   "outputs": [],
   "source": [
    "train_x = np.asarray(train_x)\n",
    "train_x = train_x.astype(np.float32).reshape(-1, 8)/1000\n",
    "test_x = np.asarray(test_x)\n",
    "test_x = test_x.astype(np.float32).reshape(-1, 8)/1000\n",
    "\n",
    "train_y = np.asarray(train_y)\n",
    "test_y = np.asarray(test_y)\n",
    "train_y = train_y.astype(np.int32)\n",
    "test_y = test_y.astype(np.int32)\n",
    "\n",
    "X_valid, X_train =  train_x[:15952], train_x[15952:]\n",
    "y_valid, y_train =  train_y[:15952], train_y[15952:]\n"
   ]
  },
  {
   "cell_type": "code",
   "execution_count": null,
   "metadata": {},
   "outputs": [],
   "source": []
  },
  {
   "cell_type": "code",
   "execution_count": null,
   "metadata": {},
   "outputs": [],
   "source": []
  },
  {
   "cell_type": "code",
   "execution_count": null,
   "metadata": {},
   "outputs": [],
   "source": []
  },
  {
   "cell_type": "code",
   "execution_count": 12,
   "metadata": {},
   "outputs": [],
   "source": [
    "filter1 = [2,2,3,3,3,3,2,2]\n",
    "filter2 = [5,5,3,3,3,3,5,5]\n",
    "filter3 = [7,7,7,7,2,2,2,2]\n",
    "filter4 = [3,3,3,3,1,1,1,1]\n",
    "\n",
    "\n",
    "#dio za conv1d\n",
    "\n",
    "batch_size = 1280       # Batch size\n",
    "seq_len = 64          # Number of steps\n",
    "learning_rate = 0.001\n",
    "epochs =100\n",
    "\n",
    "n_classes = 3\n",
    "n_channels = 8\n",
    "#\n",
    "\n",
    "tf.reset_default_graph()\n",
    "\n",
    "# X = tf.placeholder(tf.float32, shape=(None, n_inputs), name=\"X\")\n",
    "# y = tf.placeholder(tf.int32, shape=(None), name=\"y\")\n",
    "\n",
    "# conv1 = tf.layers.conv1d(X_reshaped, filters=conv1_fmaps, kernel_size=conv1_ksize,\n",
    "#                          strides=conv1_stride, padding=conv1_pad,\n",
    "#                          activation=tf.nn.relu, name=\"conv1\")\n",
    "# conv2 = tf.layers.conv1d(conv1, filters=conv2_fmaps, kernel_size=conv2_ksize,\n",
    "#                          strides=conv2_stride, padding=conv2_pad,\n",
    "#                          activation=tf.nn.relu, name=\"conv2\")\n",
    "\n",
    "# with tf.name_scope(\"inputs_for_cnn\"):\n",
    "inputs_ = tf.placeholder(tf.float32, [None, seq_len, n_channels], name = 'inputs')\n",
    "labels_ = tf.placeholder(tf.float32, [None, 1], name = 'labels')\n",
    "keep_prob_ = tf.placeholder(tf.float32, name = 'keep')\n",
    "learning_rate_ = tf.placeholder(tf.float32, name = 'learning_rate')"
   ]
  },
  {
   "cell_type": "code",
   "execution_count": 13,
   "metadata": {},
   "outputs": [],
   "source": [
    "#Build Convolutional Layers\n",
    "\n",
    "with tf.name_scope(\"cnn\"):\n",
    "    # (batch, 64, 8) --> (batch, 32, 16)\n",
    "    conv1 = tf.layers.conv1d(inputs=inputs_, filters=16, kernel_size=2, strides=1, \n",
    "                             padding='same', activation = tf.nn.relu)\n",
    "    max_pool_1 = tf.layers.max_pooling1d(inputs=conv1, pool_size=2, strides=2, padding='same')\n",
    "    \n",
    "    # (batch, 32, 16) --> (batch, 16, 16)\n",
    "    conv2 = tf.layers.conv1d(inputs=max_pool_1, filters=16, kernel_size=2, strides=1, \n",
    "                             padding='same', activation = tf.nn.relu)\n",
    "    max_pool_2 = tf.layers.max_pooling1d(inputs=conv2, pool_size=2, strides=2, padding='same')\n",
    "    \n",
    "    # (batch, 16, 16) --> (batch, 8, 32)\n",
    "    conv3 = tf.layers.conv1d(inputs=max_pool_2, filters=32, kernel_size=2, strides=1, \n",
    "                             padding='same', activation = tf.nn.relu)\n",
    "    max_pool_3 = tf.layers.max_pooling1d(inputs=conv3, pool_size=2, strides=2, padding='same')\n",
    "    # (batch, 8, 32) --> (batch, 4, 32)\n",
    "    conv4 = tf.layers.conv1d(inputs=max_pool_3, filters=32, kernel_size=2, strides=1, \n",
    "                             padding='same', activation = tf.nn.relu)\n",
    "    max_pool_4 = tf.layers.max_pooling1d(inputs=conv4, pool_size=2, strides=2, padding='same')\n"
   ]
  },
  {
   "cell_type": "code",
   "execution_count": 14,
   "metadata": {},
   "outputs": [],
   "source": [
    "#Build the inception layer\n",
    "\n",
    "with tf.name_scope('inception'):\n",
    "    # convolution: input to output of inception (size=1)\n",
    "    # (batch, 4, 32) --> (batch, 4, 32)\n",
    "    conv1_11 = tf.layers.conv1d(inputs=max_pool_4, filters=32, kernel_size=1, strides=1,\n",
    "                               padding='same', activation = tf.nn.relu)\n",
    "    # convolution: input to middle layer of inception (size=1)\n",
    "    # (batch, 4, 32) --> (batch, 4, 16)\n",
    "    conv1_21 = tf.layers.conv1d(inputs=max_pool_4, filters=16, kernel_size=1, strides=1,\n",
    "                               padding='same', activation = tf.nn.relu)\n",
    "    \n",
    "    # convolution: input to middle layer of inception (size=1)\n",
    "    # (batch, 4, 32) --> (batch, 4, 16)\n",
    "    conv1_31 = tf.layers.conv1d(inputs=max_pool_4, filters=16, kernel_size=1, strides=1,\n",
    "                               padding='same', activation = tf.nn.relu)\n",
    "    \n",
    "    # average pool: input to middle layer of inception\n",
    "    # (batch, 4, 32) --> (batch, 4, 32)\n",
    "    avg_pool_41 = tf.layers.average_pooling1d(inputs=max_pool_4, pool_size=2, strides=1, padding='same')\n",
    "    \n",
    "    ## Middle layer of inception\n",
    "    \n",
    "    # convolution: middle to out layer of inception (size=2)\n",
    "    # (batch, 4, 16) --> (batch, 4, 32)\n",
    "    conv2_22 = tf.layers.conv1d(inputs=conv1_21, filters=32, kernel_size=2, strides=1,\n",
    "                               padding='same', activation=tf.nn.relu)\n",
    "    \n",
    "    # convolution: middle to out layer of inception (size=4)\n",
    "    # (batch, 4, 16) --> (batch, 4, 32)\n",
    "    conv4_32 = tf.layers.conv1d(inputs=conv1_31, filters=32, kernel_size=4, strides=1,\n",
    "                               padding='same', activation=tf.nn.relu)\n",
    "    \n",
    "    # convolution: middle to out layer of inception (size=1)\n",
    "    # (batch, 4, 32) --> (batch, 4, 32)\n",
    "    conv1_42 = tf.layers.conv1d(inputs=avg_pool_41, filters=32, kernel_size=1, strides=1,\n",
    "                               padding='same', activation=tf.nn.relu)\n",
    "    \n",
    "    ## Out layer: Concatenate filters\n",
    "    # (batch, 4, 2*32)\n",
    "    inception_out = tf.concat([conv1_11, conv2_22, conv4_32, conv1_42], axis=2)"
   ]
  },
  {
   "cell_type": "code",
   "execution_count": 15,
   "metadata": {},
   "outputs": [
    {
     "name": "stdout",
     "output_type": "stream",
     "text": [
      "WARNING:tensorflow:From <ipython-input-15-7cc5f41bdeeb>:12: softmax_cross_entropy_with_logits (from tensorflow.python.ops.nn_ops) is deprecated and will be removed in a future version.\n",
      "Instructions for updating:\n",
      "\n",
      "Future major versions of TensorFlow will allow gradients to flow\n",
      "into the labels input on backprop by default.\n",
      "\n",
      "See `tf.nn.softmax_cross_entropy_with_logits_v2`.\n",
      "\n"
     ]
    }
   ],
   "source": [
    "#Now, flatten and pass to the classifier\n",
    "\n",
    "with tf.name_scope('flatten_and_pass'):\n",
    "    # Flatten and add dropout\n",
    "    flat = tf.reshape(inception_out, (-1, 4*64))\n",
    "    flat = tf.nn.dropout(flat, keep_prob=keep_prob_)\n",
    "    \n",
    "    # Predictions\n",
    "    logits = tf.layers.dense(flat, n_classes)\n",
    "    \n",
    "    # Cost function and optimizer\n",
    "    cost = tf.reduce_mean(tf.nn.softmax_cross_entropy_with_logits(logits=logits, labels=labels_))\n",
    "    optimizer = tf.train.AdamOptimizer(learning_rate_).minimize(cost)\n",
    "    \n",
    "    # Accuracy\n",
    "    correct_pred = tf.equal(tf.argmax(logits, 1), tf.argmax(labels_, 1))\n",
    "    accuracy = tf.reduce_mean(tf.cast(correct_pred, tf.float32), name='accuracy')"
   ]
  },
  {
   "cell_type": "code",
   "execution_count": null,
   "metadata": {},
   "outputs": [],
   "source": []
  },
  {
   "cell_type": "code",
   "execution_count": 16,
   "metadata": {},
   "outputs": [
    {
     "name": "stdout",
     "output_type": "stream",
     "text": [
      "143568\n"
     ]
    },
    {
     "data": {
      "text/plain": [
       "143360"
      ]
     },
     "execution_count": 16,
     "metadata": {},
     "output_type": "execute_result"
    }
   ],
   "source": [
    "print (len(X_train))\n",
    "\n",
    "X_train = X_train[:143360]\n",
    "y_train = y_train[:143360]\n",
    "y_train\n",
    "len(y_train)"
   ]
  },
  {
   "cell_type": "code",
   "execution_count": 17,
   "metadata": {},
   "outputs": [],
   "source": [
    "def get_batches(X, y, batch_size):\n",
    "\t\"\"\" Return a generator for batches \"\"\"\n",
    "\tn_batches = len(X) // batch_size\n",
    "\tX, y = X[:n_batches*batch_size], y[:n_batches*batch_size]\n",
    "\n",
    "\t# Loop over batches and yield\n",
    "\tfor b in range(0, len(X), batch_size):\n",
    "\t\tyield X[b:b+batch_size], y[b:b+batch_size]"
   ]
  },
  {
   "cell_type": "code",
   "execution_count": 18,
   "metadata": {},
   "outputs": [],
   "source": [
    "# #train the network\n",
    "\n",
    "# validation_acc = []\n",
    "# validation_loss = []\n",
    "\n",
    "# train_acc = []\n",
    "# train_loss = []\n",
    "\n",
    "# with tf.name_scope('saver'):\n",
    "#     saver = tf.train.Saver()\n",
    "\n",
    "# with tf.Session() as sess:\n",
    "#     #slijedecu liniju mozda promijeniti\n",
    "#     sess.run(tf.global_variables_initializer())\n",
    "#     iteration = 1\n",
    "   \n",
    "#     # Loop over epochs\n",
    "#     for e in range(epochs):\n",
    "        \n",
    "#         # Loop over batches\n",
    "#         for x,y in get_batches(X_train, y_train, batch_size):\n",
    "            \n",
    "#             # Feed dictionary\n",
    "#             feed = {inputs_ : x, labels_ : y, keep_prob_ : 0.5, learning_rate_ : learning_rate}\n",
    "            \n",
    "#             # Loss\n",
    "#             loss, _ , acc = sess.run([cost, optimizer, accuracy], feed_dict = feed)\n",
    "#             train_acc.append(acc)\n",
    "#             train_loss.append(loss)\n",
    "            \n",
    "#             # Print at each 5 iters\n",
    "#             if (iteration % 5 == 0):\n",
    "#                 print(\"Epoch: {}/{}\".format(e, epochs),\n",
    "#                       \"Iteration: {:d}\".format(iteration),\n",
    "#                       \"Train loss: {:6f}\".format(loss),\n",
    "#                       \"Train acc: {:.6f}\".format(acc))\n",
    "            \n",
    "#             # Compute validation loss at every 10 iterations\n",
    "#             if (iteration%10 == 0):                \n",
    "#                 val_acc_ = []\n",
    "#                 val_loss_ = []\n",
    "                \n",
    "#                 for x_v, y_v in get_batches(X_valid, y_valid, batch_size):\n",
    "#                     # Feed\n",
    "#                     feed = {inputs_ : x_v, labels_ : y_v, keep_prob_ : 1.0}  \n",
    "                    \n",
    "#                     # Loss\n",
    "#                     loss_v, acc_v = sess.run([cost, accuracy], feed_dict = feed)                    \n",
    "#                     val_acc_.append(acc_v)\n",
    "#                     val_loss_.append(loss_v)\n",
    "                \n",
    "#                 # Print info\n",
    "#                 print(\"Epoch: {}/{}\".format(e, epochs),\n",
    "#                       \"Iteration: {:d}\".format(iteration),\n",
    "#                       \"Validation loss: {:6f}\".format(np.mean(val_loss_)),\n",
    "#                       \"Validation acc: {:.6f}\".format(np.mean(val_acc_)))\n",
    "                \n",
    "#                 # Store\n",
    "#                 validation_acc.append(np.mean(val_acc_))\n",
    "#                 validation_loss.append(np.mean(val_loss_))\n",
    "            \n",
    "#             # Iterate \n",
    "#             iteration += 1\n",
    "    \n",
    "#     saver.save(sess,\"checkpoints-cnn/vege.ckpt\")\n"
   ]
  },
  {
   "cell_type": "code",
   "execution_count": 19,
   "metadata": {},
   "outputs": [],
   "source": [
    "X_train_r = X_train.reshape(int(len(X_train)/64), 64, 8)\n",
    "y_train_r = y_train.reshape(int(len(y_train)), 1)"
   ]
  },
  {
   "cell_type": "code",
   "execution_count": 20,
   "metadata": {},
   "outputs": [
    {
     "ename": "InvalidArgumentError",
     "evalue": "logits and labels must be broadcastable: logits_size=[4480,3] labels_size=[143360,1]\n\t [[node flatten_and_pass/softmax_cross_entropy_with_logits_sg (defined at <ipython-input-15-7cc5f41bdeeb>:12)  = SoftmaxCrossEntropyWithLogits[T=DT_FLOAT, _device=\"/job:localhost/replica:0/task:0/device:GPU:0\"](flatten_and_pass/dense/BiasAdd, flatten_and_pass/softmax_cross_entropy_with_logits_sg/Reshape_1)]]\n\t [[{{node flatten_and_pass/accuracy/_13}} = _Recv[client_terminated=false, recv_device=\"/job:localhost/replica:0/task:0/device:CPU:0\", send_device=\"/job:localhost/replica:0/task:0/device:GPU:0\", send_device_incarnation=1, tensor_name=\"edge_986_flatten_and_pass/accuracy\", tensor_type=DT_FLOAT, _device=\"/job:localhost/replica:0/task:0/device:CPU:0\"]()]]\n\nCaused by op 'flatten_and_pass/softmax_cross_entropy_with_logits_sg', defined at:\n  File \"/usr/lib/python3.5/runpy.py\", line 184, in _run_module_as_main\n    \"__main__\", mod_spec)\n  File \"/usr/lib/python3.5/runpy.py\", line 85, in _run_code\n    exec(code, run_globals)\n  File \"/home/mihael/virutalenv/venv_tf/lib/python3.5/site-packages/ipykernel_launcher.py\", line 16, in <module>\n    app.launch_new_instance()\n  File \"/home/mihael/virutalenv/venv_tf/lib/python3.5/site-packages/traitlets/config/application.py\", line 658, in launch_instance\n    app.start()\n  File \"/home/mihael/virutalenv/venv_tf/lib/python3.5/site-packages/ipykernel/kernelapp.py\", line 499, in start\n    self.io_loop.start()\n  File \"/home/mihael/virutalenv/venv_tf/lib/python3.5/site-packages/tornado/platform/asyncio.py\", line 132, in start\n    self.asyncio_loop.run_forever()\n  File \"/usr/lib/python3.5/asyncio/base_events.py\", line 345, in run_forever\n    self._run_once()\n  File \"/usr/lib/python3.5/asyncio/base_events.py\", line 1312, in _run_once\n    handle._run()\n  File \"/usr/lib/python3.5/asyncio/events.py\", line 125, in _run\n    self._callback(*self._args)\n  File \"/home/mihael/virutalenv/venv_tf/lib/python3.5/site-packages/tornado/ioloop.py\", line 758, in _run_callback\n    ret = callback()\n  File \"/home/mihael/virutalenv/venv_tf/lib/python3.5/site-packages/tornado/stack_context.py\", line 300, in null_wrapper\n    return fn(*args, **kwargs)\n  File \"/home/mihael/virutalenv/venv_tf/lib/python3.5/site-packages/tornado/gen.py\", line 1233, in inner\n    self.run()\n  File \"/home/mihael/virutalenv/venv_tf/lib/python3.5/site-packages/tornado/gen.py\", line 1147, in run\n    yielded = self.gen.send(value)\n  File \"/home/mihael/virutalenv/venv_tf/lib/python3.5/site-packages/ipykernel/kernelbase.py\", line 359, in dispatch_queue\n    yield self.process_one()\n  File \"/home/mihael/virutalenv/venv_tf/lib/python3.5/site-packages/tornado/gen.py\", line 346, in wrapper\n    runner = Runner(result, future, yielded)\n  File \"/home/mihael/virutalenv/venv_tf/lib/python3.5/site-packages/tornado/gen.py\", line 1080, in __init__\n    self.run()\n  File \"/home/mihael/virutalenv/venv_tf/lib/python3.5/site-packages/tornado/gen.py\", line 1147, in run\n    yielded = self.gen.send(value)\n  File \"/home/mihael/virutalenv/venv_tf/lib/python3.5/site-packages/ipykernel/kernelbase.py\", line 346, in process_one\n    yield gen.maybe_future(dispatch(*args))\n  File \"/home/mihael/virutalenv/venv_tf/lib/python3.5/site-packages/tornado/gen.py\", line 326, in wrapper\n    yielded = next(result)\n  File \"/home/mihael/virutalenv/venv_tf/lib/python3.5/site-packages/ipykernel/kernelbase.py\", line 259, in dispatch_shell\n    yield gen.maybe_future(handler(stream, idents, msg))\n  File \"/home/mihael/virutalenv/venv_tf/lib/python3.5/site-packages/tornado/gen.py\", line 326, in wrapper\n    yielded = next(result)\n  File \"/home/mihael/virutalenv/venv_tf/lib/python3.5/site-packages/ipykernel/kernelbase.py\", line 513, in execute_request\n    user_expressions, allow_stdin,\n  File \"/home/mihael/virutalenv/venv_tf/lib/python3.5/site-packages/tornado/gen.py\", line 326, in wrapper\n    yielded = next(result)\n  File \"/home/mihael/virutalenv/venv_tf/lib/python3.5/site-packages/ipykernel/ipkernel.py\", line 294, in do_execute\n    res = shell.run_cell(code, store_history=store_history, silent=silent)\n  File \"/home/mihael/virutalenv/venv_tf/lib/python3.5/site-packages/ipykernel/zmqshell.py\", line 536, in run_cell\n    return super(ZMQInteractiveShell, self).run_cell(*args, **kwargs)\n  File \"/home/mihael/virutalenv/venv_tf/lib/python3.5/site-packages/IPython/core/interactiveshell.py\", line 2817, in run_cell\n    raw_cell, store_history, silent, shell_futures)\n  File \"/home/mihael/virutalenv/venv_tf/lib/python3.5/site-packages/IPython/core/interactiveshell.py\", line 2843, in _run_cell\n    return runner(coro)\n  File \"/home/mihael/virutalenv/venv_tf/lib/python3.5/site-packages/IPython/core/async_helpers.py\", line 67, in _pseudo_sync_runner\n    coro.send(None)\n  File \"/home/mihael/virutalenv/venv_tf/lib/python3.5/site-packages/IPython/core/interactiveshell.py\", line 3018, in run_cell_async\n    interactivity=interactivity, compiler=compiler, result=result)\n  File \"/home/mihael/virutalenv/venv_tf/lib/python3.5/site-packages/IPython/core/interactiveshell.py\", line 3183, in run_ast_nodes\n    if (yield from self.run_code(code, result)):\n  File \"/home/mihael/virutalenv/venv_tf/lib/python3.5/site-packages/IPython/core/interactiveshell.py\", line 3265, in run_code\n    exec(code_obj, self.user_global_ns, self.user_ns)\n  File \"<ipython-input-15-7cc5f41bdeeb>\", line 12, in <module>\n    cost = tf.reduce_mean(tf.nn.softmax_cross_entropy_with_logits(logits=logits, labels=labels_))\n  File \"/home/mihael/virutalenv/venv_tf/lib/python3.5/site-packages/tensorflow/python/util/deprecation.py\", line 306, in new_func\n    return func(*args, **kwargs)\n  File \"/home/mihael/virutalenv/venv_tf/lib/python3.5/site-packages/tensorflow/python/ops/nn_ops.py\", line 1954, in softmax_cross_entropy_with_logits\n    labels=labels, logits=logits, dim=dim, name=name)\n  File \"/home/mihael/virutalenv/venv_tf/lib/python3.5/site-packages/tensorflow/python/ops/nn_ops.py\", line 1864, in softmax_cross_entropy_with_logits_v2\n    precise_logits, labels, name=name)\n  File \"/home/mihael/virutalenv/venv_tf/lib/python3.5/site-packages/tensorflow/python/ops/gen_nn_ops.py\", line 7210, in softmax_cross_entropy_with_logits\n    name=name)\n  File \"/home/mihael/virutalenv/venv_tf/lib/python3.5/site-packages/tensorflow/python/framework/op_def_library.py\", line 787, in _apply_op_helper\n    op_def=op_def)\n  File \"/home/mihael/virutalenv/venv_tf/lib/python3.5/site-packages/tensorflow/python/util/deprecation.py\", line 488, in new_func\n    return func(*args, **kwargs)\n  File \"/home/mihael/virutalenv/venv_tf/lib/python3.5/site-packages/tensorflow/python/framework/ops.py\", line 3274, in create_op\n    op_def=op_def)\n  File \"/home/mihael/virutalenv/venv_tf/lib/python3.5/site-packages/tensorflow/python/framework/ops.py\", line 1770, in __init__\n    self._traceback = tf_stack.extract_stack()\n\nInvalidArgumentError (see above for traceback): logits and labels must be broadcastable: logits_size=[4480,3] labels_size=[143360,1]\n\t [[node flatten_and_pass/softmax_cross_entropy_with_logits_sg (defined at <ipython-input-15-7cc5f41bdeeb>:12)  = SoftmaxCrossEntropyWithLogits[T=DT_FLOAT, _device=\"/job:localhost/replica:0/task:0/device:GPU:0\"](flatten_and_pass/dense/BiasAdd, flatten_and_pass/softmax_cross_entropy_with_logits_sg/Reshape_1)]]\n\t [[{{node flatten_and_pass/accuracy/_13}} = _Recv[client_terminated=false, recv_device=\"/job:localhost/replica:0/task:0/device:CPU:0\", send_device=\"/job:localhost/replica:0/task:0/device:GPU:0\", send_device_incarnation=1, tensor_name=\"edge_986_flatten_and_pass/accuracy\", tensor_type=DT_FLOAT, _device=\"/job:localhost/replica:0/task:0/device:CPU:0\"]()]]\n",
     "output_type": "error",
     "traceback": [
      "\u001b[0;31m---------------------------------------------------------------------------\u001b[0m",
      "\u001b[0;31mInvalidArgumentError\u001b[0m                      Traceback (most recent call last)",
      "\u001b[0;32m~/virutalenv/venv_tf/lib/python3.5/site-packages/tensorflow/python/client/session.py\u001b[0m in \u001b[0;36m_do_call\u001b[0;34m(self, fn, *args)\u001b[0m\n\u001b[1;32m   1333\u001b[0m     \u001b[0;32mtry\u001b[0m\u001b[0;34m:\u001b[0m\u001b[0;34m\u001b[0m\u001b[0m\n\u001b[0;32m-> 1334\u001b[0;31m       \u001b[0;32mreturn\u001b[0m \u001b[0mfn\u001b[0m\u001b[0;34m(\u001b[0m\u001b[0;34m*\u001b[0m\u001b[0margs\u001b[0m\u001b[0;34m)\u001b[0m\u001b[0;34m\u001b[0m\u001b[0m\n\u001b[0m\u001b[1;32m   1335\u001b[0m     \u001b[0;32mexcept\u001b[0m \u001b[0merrors\u001b[0m\u001b[0;34m.\u001b[0m\u001b[0mOpError\u001b[0m \u001b[0;32mas\u001b[0m \u001b[0me\u001b[0m\u001b[0;34m:\u001b[0m\u001b[0;34m\u001b[0m\u001b[0m\n",
      "\u001b[0;32m~/virutalenv/venv_tf/lib/python3.5/site-packages/tensorflow/python/client/session.py\u001b[0m in \u001b[0;36m_run_fn\u001b[0;34m(feed_dict, fetch_list, target_list, options, run_metadata)\u001b[0m\n\u001b[1;32m   1318\u001b[0m       return self._call_tf_sessionrun(\n\u001b[0;32m-> 1319\u001b[0;31m           options, feed_dict, fetch_list, target_list, run_metadata)\n\u001b[0m\u001b[1;32m   1320\u001b[0m \u001b[0;34m\u001b[0m\u001b[0m\n",
      "\u001b[0;32m~/virutalenv/venv_tf/lib/python3.5/site-packages/tensorflow/python/client/session.py\u001b[0m in \u001b[0;36m_call_tf_sessionrun\u001b[0;34m(self, options, feed_dict, fetch_list, target_list, run_metadata)\u001b[0m\n\u001b[1;32m   1406\u001b[0m         \u001b[0mself\u001b[0m\u001b[0;34m.\u001b[0m\u001b[0m_session\u001b[0m\u001b[0;34m,\u001b[0m \u001b[0moptions\u001b[0m\u001b[0;34m,\u001b[0m \u001b[0mfeed_dict\u001b[0m\u001b[0;34m,\u001b[0m \u001b[0mfetch_list\u001b[0m\u001b[0;34m,\u001b[0m \u001b[0mtarget_list\u001b[0m\u001b[0;34m,\u001b[0m\u001b[0;34m\u001b[0m\u001b[0m\n\u001b[0;32m-> 1407\u001b[0;31m         run_metadata)\n\u001b[0m\u001b[1;32m   1408\u001b[0m \u001b[0;34m\u001b[0m\u001b[0m\n",
      "\u001b[0;31mInvalidArgumentError\u001b[0m: logits and labels must be broadcastable: logits_size=[4480,3] labels_size=[143360,1]\n\t [[{{node flatten_and_pass/softmax_cross_entropy_with_logits_sg}} = SoftmaxCrossEntropyWithLogits[T=DT_FLOAT, _device=\"/job:localhost/replica:0/task:0/device:GPU:0\"](flatten_and_pass/dense/BiasAdd, flatten_and_pass/softmax_cross_entropy_with_logits_sg/Reshape_1)]]\n\t [[{{node flatten_and_pass/accuracy/_13}} = _Recv[client_terminated=false, recv_device=\"/job:localhost/replica:0/task:0/device:CPU:0\", send_device=\"/job:localhost/replica:0/task:0/device:GPU:0\", send_device_incarnation=1, tensor_name=\"edge_986_flatten_and_pass/accuracy\", tensor_type=DT_FLOAT, _device=\"/job:localhost/replica:0/task:0/device:CPU:0\"]()]]",
      "\nDuring handling of the above exception, another exception occurred:\n",
      "\u001b[0;31mInvalidArgumentError\u001b[0m                      Traceback (most recent call last)",
      "\u001b[0;32m<ipython-input-20-9662613632f7>\u001b[0m in \u001b[0;36m<module>\u001b[0;34m\u001b[0m\n\u001b[1;32m     22\u001b[0m \u001b[0;34m\u001b[0m\u001b[0m\n\u001b[1;32m     23\u001b[0m         \u001b[0;31m# Loss\u001b[0m\u001b[0;34m\u001b[0m\u001b[0;34m\u001b[0m\u001b[0m\n\u001b[0;32m---> 24\u001b[0;31m         \u001b[0mloss\u001b[0m\u001b[0;34m,\u001b[0m \u001b[0m_\u001b[0m \u001b[0;34m,\u001b[0m \u001b[0macc\u001b[0m \u001b[0;34m=\u001b[0m \u001b[0msess\u001b[0m\u001b[0;34m.\u001b[0m\u001b[0mrun\u001b[0m\u001b[0;34m(\u001b[0m\u001b[0;34m[\u001b[0m\u001b[0mcost\u001b[0m\u001b[0;34m,\u001b[0m \u001b[0moptimizer\u001b[0m\u001b[0;34m,\u001b[0m \u001b[0maccuracy\u001b[0m\u001b[0;34m]\u001b[0m\u001b[0;34m,\u001b[0m \u001b[0mfeed_dict\u001b[0m \u001b[0;34m=\u001b[0m \u001b[0mfeed\u001b[0m\u001b[0;34m)\u001b[0m\u001b[0;34m\u001b[0m\u001b[0m\n\u001b[0m\u001b[1;32m     25\u001b[0m         \u001b[0mtrain_acc\u001b[0m\u001b[0;34m.\u001b[0m\u001b[0mappend\u001b[0m\u001b[0;34m(\u001b[0m\u001b[0macc\u001b[0m\u001b[0;34m)\u001b[0m\u001b[0;34m\u001b[0m\u001b[0m\n\u001b[1;32m     26\u001b[0m         \u001b[0mtrain_loss\u001b[0m\u001b[0;34m.\u001b[0m\u001b[0mappend\u001b[0m\u001b[0;34m(\u001b[0m\u001b[0mloss\u001b[0m\u001b[0;34m)\u001b[0m\u001b[0;34m\u001b[0m\u001b[0m\n",
      "\u001b[0;32m~/virutalenv/venv_tf/lib/python3.5/site-packages/tensorflow/python/client/session.py\u001b[0m in \u001b[0;36mrun\u001b[0;34m(self, fetches, feed_dict, options, run_metadata)\u001b[0m\n\u001b[1;32m    927\u001b[0m     \u001b[0;32mtry\u001b[0m\u001b[0;34m:\u001b[0m\u001b[0;34m\u001b[0m\u001b[0m\n\u001b[1;32m    928\u001b[0m       result = self._run(None, fetches, feed_dict, options_ptr,\n\u001b[0;32m--> 929\u001b[0;31m                          run_metadata_ptr)\n\u001b[0m\u001b[1;32m    930\u001b[0m       \u001b[0;32mif\u001b[0m \u001b[0mrun_metadata\u001b[0m\u001b[0;34m:\u001b[0m\u001b[0;34m\u001b[0m\u001b[0m\n\u001b[1;32m    931\u001b[0m         \u001b[0mproto_data\u001b[0m \u001b[0;34m=\u001b[0m \u001b[0mtf_session\u001b[0m\u001b[0;34m.\u001b[0m\u001b[0mTF_GetBuffer\u001b[0m\u001b[0;34m(\u001b[0m\u001b[0mrun_metadata_ptr\u001b[0m\u001b[0;34m)\u001b[0m\u001b[0;34m\u001b[0m\u001b[0m\n",
      "\u001b[0;32m~/virutalenv/venv_tf/lib/python3.5/site-packages/tensorflow/python/client/session.py\u001b[0m in \u001b[0;36m_run\u001b[0;34m(self, handle, fetches, feed_dict, options, run_metadata)\u001b[0m\n\u001b[1;32m   1150\u001b[0m     \u001b[0;32mif\u001b[0m \u001b[0mfinal_fetches\u001b[0m \u001b[0;32mor\u001b[0m \u001b[0mfinal_targets\u001b[0m \u001b[0;32mor\u001b[0m \u001b[0;34m(\u001b[0m\u001b[0mhandle\u001b[0m \u001b[0;32mand\u001b[0m \u001b[0mfeed_dict_tensor\u001b[0m\u001b[0;34m)\u001b[0m\u001b[0;34m:\u001b[0m\u001b[0;34m\u001b[0m\u001b[0m\n\u001b[1;32m   1151\u001b[0m       results = self._do_run(handle, final_targets, final_fetches,\n\u001b[0;32m-> 1152\u001b[0;31m                              feed_dict_tensor, options, run_metadata)\n\u001b[0m\u001b[1;32m   1153\u001b[0m     \u001b[0;32melse\u001b[0m\u001b[0;34m:\u001b[0m\u001b[0;34m\u001b[0m\u001b[0m\n\u001b[1;32m   1154\u001b[0m       \u001b[0mresults\u001b[0m \u001b[0;34m=\u001b[0m \u001b[0;34m[\u001b[0m\u001b[0;34m]\u001b[0m\u001b[0;34m\u001b[0m\u001b[0m\n",
      "\u001b[0;32m~/virutalenv/venv_tf/lib/python3.5/site-packages/tensorflow/python/client/session.py\u001b[0m in \u001b[0;36m_do_run\u001b[0;34m(self, handle, target_list, fetch_list, feed_dict, options, run_metadata)\u001b[0m\n\u001b[1;32m   1326\u001b[0m     \u001b[0;32mif\u001b[0m \u001b[0mhandle\u001b[0m \u001b[0;32mis\u001b[0m \u001b[0;32mNone\u001b[0m\u001b[0;34m:\u001b[0m\u001b[0;34m\u001b[0m\u001b[0m\n\u001b[1;32m   1327\u001b[0m       return self._do_call(_run_fn, feeds, fetches, targets, options,\n\u001b[0;32m-> 1328\u001b[0;31m                            run_metadata)\n\u001b[0m\u001b[1;32m   1329\u001b[0m     \u001b[0;32melse\u001b[0m\u001b[0;34m:\u001b[0m\u001b[0;34m\u001b[0m\u001b[0m\n\u001b[1;32m   1330\u001b[0m       \u001b[0;32mreturn\u001b[0m \u001b[0mself\u001b[0m\u001b[0;34m.\u001b[0m\u001b[0m_do_call\u001b[0m\u001b[0;34m(\u001b[0m\u001b[0m_prun_fn\u001b[0m\u001b[0;34m,\u001b[0m \u001b[0mhandle\u001b[0m\u001b[0;34m,\u001b[0m \u001b[0mfeeds\u001b[0m\u001b[0;34m,\u001b[0m \u001b[0mfetches\u001b[0m\u001b[0;34m)\u001b[0m\u001b[0;34m\u001b[0m\u001b[0m\n",
      "\u001b[0;32m~/virutalenv/venv_tf/lib/python3.5/site-packages/tensorflow/python/client/session.py\u001b[0m in \u001b[0;36m_do_call\u001b[0;34m(self, fn, *args)\u001b[0m\n\u001b[1;32m   1346\u001b[0m           \u001b[0;32mpass\u001b[0m\u001b[0;34m\u001b[0m\u001b[0m\n\u001b[1;32m   1347\u001b[0m       \u001b[0mmessage\u001b[0m \u001b[0;34m=\u001b[0m \u001b[0merror_interpolation\u001b[0m\u001b[0;34m.\u001b[0m\u001b[0minterpolate\u001b[0m\u001b[0;34m(\u001b[0m\u001b[0mmessage\u001b[0m\u001b[0;34m,\u001b[0m \u001b[0mself\u001b[0m\u001b[0;34m.\u001b[0m\u001b[0m_graph\u001b[0m\u001b[0;34m)\u001b[0m\u001b[0;34m\u001b[0m\u001b[0m\n\u001b[0;32m-> 1348\u001b[0;31m       \u001b[0;32mraise\u001b[0m \u001b[0mtype\u001b[0m\u001b[0;34m(\u001b[0m\u001b[0me\u001b[0m\u001b[0;34m)\u001b[0m\u001b[0;34m(\u001b[0m\u001b[0mnode_def\u001b[0m\u001b[0;34m,\u001b[0m \u001b[0mop\u001b[0m\u001b[0;34m,\u001b[0m \u001b[0mmessage\u001b[0m\u001b[0;34m)\u001b[0m\u001b[0;34m\u001b[0m\u001b[0m\n\u001b[0m\u001b[1;32m   1349\u001b[0m \u001b[0;34m\u001b[0m\u001b[0m\n\u001b[1;32m   1350\u001b[0m   \u001b[0;32mdef\u001b[0m \u001b[0m_extend_graph\u001b[0m\u001b[0;34m(\u001b[0m\u001b[0mself\u001b[0m\u001b[0;34m)\u001b[0m\u001b[0;34m:\u001b[0m\u001b[0;34m\u001b[0m\u001b[0m\n",
      "\u001b[0;31mInvalidArgumentError\u001b[0m: logits and labels must be broadcastable: logits_size=[4480,3] labels_size=[143360,1]\n\t [[node flatten_and_pass/softmax_cross_entropy_with_logits_sg (defined at <ipython-input-15-7cc5f41bdeeb>:12)  = SoftmaxCrossEntropyWithLogits[T=DT_FLOAT, _device=\"/job:localhost/replica:0/task:0/device:GPU:0\"](flatten_and_pass/dense/BiasAdd, flatten_and_pass/softmax_cross_entropy_with_logits_sg/Reshape_1)]]\n\t [[{{node flatten_and_pass/accuracy/_13}} = _Recv[client_terminated=false, recv_device=\"/job:localhost/replica:0/task:0/device:CPU:0\", send_device=\"/job:localhost/replica:0/task:0/device:GPU:0\", send_device_incarnation=1, tensor_name=\"edge_986_flatten_and_pass/accuracy\", tensor_type=DT_FLOAT, _device=\"/job:localhost/replica:0/task:0/device:CPU:0\"]()]]\n\nCaused by op 'flatten_and_pass/softmax_cross_entropy_with_logits_sg', defined at:\n  File \"/usr/lib/python3.5/runpy.py\", line 184, in _run_module_as_main\n    \"__main__\", mod_spec)\n  File \"/usr/lib/python3.5/runpy.py\", line 85, in _run_code\n    exec(code, run_globals)\n  File \"/home/mihael/virutalenv/venv_tf/lib/python3.5/site-packages/ipykernel_launcher.py\", line 16, in <module>\n    app.launch_new_instance()\n  File \"/home/mihael/virutalenv/venv_tf/lib/python3.5/site-packages/traitlets/config/application.py\", line 658, in launch_instance\n    app.start()\n  File \"/home/mihael/virutalenv/venv_tf/lib/python3.5/site-packages/ipykernel/kernelapp.py\", line 499, in start\n    self.io_loop.start()\n  File \"/home/mihael/virutalenv/venv_tf/lib/python3.5/site-packages/tornado/platform/asyncio.py\", line 132, in start\n    self.asyncio_loop.run_forever()\n  File \"/usr/lib/python3.5/asyncio/base_events.py\", line 345, in run_forever\n    self._run_once()\n  File \"/usr/lib/python3.5/asyncio/base_events.py\", line 1312, in _run_once\n    handle._run()\n  File \"/usr/lib/python3.5/asyncio/events.py\", line 125, in _run\n    self._callback(*self._args)\n  File \"/home/mihael/virutalenv/venv_tf/lib/python3.5/site-packages/tornado/ioloop.py\", line 758, in _run_callback\n    ret = callback()\n  File \"/home/mihael/virutalenv/venv_tf/lib/python3.5/site-packages/tornado/stack_context.py\", line 300, in null_wrapper\n    return fn(*args, **kwargs)\n  File \"/home/mihael/virutalenv/venv_tf/lib/python3.5/site-packages/tornado/gen.py\", line 1233, in inner\n    self.run()\n  File \"/home/mihael/virutalenv/venv_tf/lib/python3.5/site-packages/tornado/gen.py\", line 1147, in run\n    yielded = self.gen.send(value)\n  File \"/home/mihael/virutalenv/venv_tf/lib/python3.5/site-packages/ipykernel/kernelbase.py\", line 359, in dispatch_queue\n    yield self.process_one()\n  File \"/home/mihael/virutalenv/venv_tf/lib/python3.5/site-packages/tornado/gen.py\", line 346, in wrapper\n    runner = Runner(result, future, yielded)\n  File \"/home/mihael/virutalenv/venv_tf/lib/python3.5/site-packages/tornado/gen.py\", line 1080, in __init__\n    self.run()\n  File \"/home/mihael/virutalenv/venv_tf/lib/python3.5/site-packages/tornado/gen.py\", line 1147, in run\n    yielded = self.gen.send(value)\n  File \"/home/mihael/virutalenv/venv_tf/lib/python3.5/site-packages/ipykernel/kernelbase.py\", line 346, in process_one\n    yield gen.maybe_future(dispatch(*args))\n  File \"/home/mihael/virutalenv/venv_tf/lib/python3.5/site-packages/tornado/gen.py\", line 326, in wrapper\n    yielded = next(result)\n  File \"/home/mihael/virutalenv/venv_tf/lib/python3.5/site-packages/ipykernel/kernelbase.py\", line 259, in dispatch_shell\n    yield gen.maybe_future(handler(stream, idents, msg))\n  File \"/home/mihael/virutalenv/venv_tf/lib/python3.5/site-packages/tornado/gen.py\", line 326, in wrapper\n    yielded = next(result)\n  File \"/home/mihael/virutalenv/venv_tf/lib/python3.5/site-packages/ipykernel/kernelbase.py\", line 513, in execute_request\n    user_expressions, allow_stdin,\n  File \"/home/mihael/virutalenv/venv_tf/lib/python3.5/site-packages/tornado/gen.py\", line 326, in wrapper\n    yielded = next(result)\n  File \"/home/mihael/virutalenv/venv_tf/lib/python3.5/site-packages/ipykernel/ipkernel.py\", line 294, in do_execute\n    res = shell.run_cell(code, store_history=store_history, silent=silent)\n  File \"/home/mihael/virutalenv/venv_tf/lib/python3.5/site-packages/ipykernel/zmqshell.py\", line 536, in run_cell\n    return super(ZMQInteractiveShell, self).run_cell(*args, **kwargs)\n  File \"/home/mihael/virutalenv/venv_tf/lib/python3.5/site-packages/IPython/core/interactiveshell.py\", line 2817, in run_cell\n    raw_cell, store_history, silent, shell_futures)\n  File \"/home/mihael/virutalenv/venv_tf/lib/python3.5/site-packages/IPython/core/interactiveshell.py\", line 2843, in _run_cell\n    return runner(coro)\n  File \"/home/mihael/virutalenv/venv_tf/lib/python3.5/site-packages/IPython/core/async_helpers.py\", line 67, in _pseudo_sync_runner\n    coro.send(None)\n  File \"/home/mihael/virutalenv/venv_tf/lib/python3.5/site-packages/IPython/core/interactiveshell.py\", line 3018, in run_cell_async\n    interactivity=interactivity, compiler=compiler, result=result)\n  File \"/home/mihael/virutalenv/venv_tf/lib/python3.5/site-packages/IPython/core/interactiveshell.py\", line 3183, in run_ast_nodes\n    if (yield from self.run_code(code, result)):\n  File \"/home/mihael/virutalenv/venv_tf/lib/python3.5/site-packages/IPython/core/interactiveshell.py\", line 3265, in run_code\n    exec(code_obj, self.user_global_ns, self.user_ns)\n  File \"<ipython-input-15-7cc5f41bdeeb>\", line 12, in <module>\n    cost = tf.reduce_mean(tf.nn.softmax_cross_entropy_with_logits(logits=logits, labels=labels_))\n  File \"/home/mihael/virutalenv/venv_tf/lib/python3.5/site-packages/tensorflow/python/util/deprecation.py\", line 306, in new_func\n    return func(*args, **kwargs)\n  File \"/home/mihael/virutalenv/venv_tf/lib/python3.5/site-packages/tensorflow/python/ops/nn_ops.py\", line 1954, in softmax_cross_entropy_with_logits\n    labels=labels, logits=logits, dim=dim, name=name)\n  File \"/home/mihael/virutalenv/venv_tf/lib/python3.5/site-packages/tensorflow/python/ops/nn_ops.py\", line 1864, in softmax_cross_entropy_with_logits_v2\n    precise_logits, labels, name=name)\n  File \"/home/mihael/virutalenv/venv_tf/lib/python3.5/site-packages/tensorflow/python/ops/gen_nn_ops.py\", line 7210, in softmax_cross_entropy_with_logits\n    name=name)\n  File \"/home/mihael/virutalenv/venv_tf/lib/python3.5/site-packages/tensorflow/python/framework/op_def_library.py\", line 787, in _apply_op_helper\n    op_def=op_def)\n  File \"/home/mihael/virutalenv/venv_tf/lib/python3.5/site-packages/tensorflow/python/util/deprecation.py\", line 488, in new_func\n    return func(*args, **kwargs)\n  File \"/home/mihael/virutalenv/venv_tf/lib/python3.5/site-packages/tensorflow/python/framework/ops.py\", line 3274, in create_op\n    op_def=op_def)\n  File \"/home/mihael/virutalenv/venv_tf/lib/python3.5/site-packages/tensorflow/python/framework/ops.py\", line 1770, in __init__\n    self._traceback = tf_stack.extract_stack()\n\nInvalidArgumentError (see above for traceback): logits and labels must be broadcastable: logits_size=[4480,3] labels_size=[143360,1]\n\t [[node flatten_and_pass/softmax_cross_entropy_with_logits_sg (defined at <ipython-input-15-7cc5f41bdeeb>:12)  = SoftmaxCrossEntropyWithLogits[T=DT_FLOAT, _device=\"/job:localhost/replica:0/task:0/device:GPU:0\"](flatten_and_pass/dense/BiasAdd, flatten_and_pass/softmax_cross_entropy_with_logits_sg/Reshape_1)]]\n\t [[{{node flatten_and_pass/accuracy/_13}} = _Recv[client_terminated=false, recv_device=\"/job:localhost/replica:0/task:0/device:CPU:0\", send_device=\"/job:localhost/replica:0/task:0/device:GPU:0\", send_device_incarnation=1, tensor_name=\"edge_986_flatten_and_pass/accuracy\", tensor_type=DT_FLOAT, _device=\"/job:localhost/replica:0/task:0/device:CPU:0\"]()]]\n"
     ]
    }
   ],
   "source": [
    "#train the network\n",
    "\n",
    "validation_acc = []\n",
    "validation_loss = []\n",
    "\n",
    "train_acc = []\n",
    "train_loss = []\n",
    "\n",
    "with tf.name_scope('saver'):\n",
    "    saver = tf.train.Saver()\n",
    "\n",
    "with tf.Session() as sess:\n",
    "    #slijedecu liniju mozda promijeniti\n",
    "    sess.run(tf.global_variables_initializer())\n",
    "    iteration = 1\n",
    "   \n",
    "    # Loop over epochs\n",
    "    for e in range(epochs):\n",
    "\n",
    "        # Feed dictionary\n",
    "        feed = {inputs_ : X_train_r, labels_ : y_train_r, keep_prob_ : 0.5, learning_rate_ : learning_rate}\n",
    "\n",
    "        # Loss\n",
    "        loss, _ , acc = sess.run([cost, optimizer, accuracy], feed_dict = feed)\n",
    "        train_acc.append(acc)\n",
    "        train_loss.append(loss)\n",
    "\n",
    "        # Print at each 5 iters\n",
    "        if (iteration % 5 == 0):\n",
    "            print(\"Epoch: {}/{}\".format(e, epochs),\n",
    "                  \"Iteration: {:d}\".format(iteration),\n",
    "                  \"Train loss: {:6f}\".format(loss),\n",
    "                  \"Train acc: {:.6f}\".format(acc))\n",
    "\n",
    "        # Compute validation loss at every 10 iterations\n",
    "        if (iteration%10 == 0):                \n",
    "            val_acc_ = []\n",
    "            val_loss_ = []\n",
    "\n",
    "            for x_v, y_v in get_batches(X_valid, y_valid, batch_size):\n",
    "                # Feed\n",
    "                feed = {inputs_ : x_v, labels_ : y_v, keep_prob_ : 1.0}  \n",
    "\n",
    "                # Loss\n",
    "                loss_v, acc_v = sess.run([cost, accuracy], feed_dict = feed)                    \n",
    "                val_acc_.append(acc_v)\n",
    "                val_loss_.append(loss_v)\n",
    "\n",
    "            # Print info\n",
    "            print(\"Epoch: {}/{}\".format(e, epochs),\n",
    "                  \"Iteration: {:d}\".format(iteration),\n",
    "                  \"Validation loss: {:6f}\".format(np.mean(val_loss_)),\n",
    "                  \"Validation acc: {:.6f}\".format(np.mean(val_acc_)))\n",
    "\n",
    "            # Store\n",
    "            validation_acc.append(np.mean(val_acc_))\n",
    "            validation_loss.append(np.mean(val_loss_))\n",
    "            \n",
    "            # Iterate \n",
    "            iteration += 1\n",
    "    \n",
    "    saver.save(sess,\"checkpoints-cnn/vege.ckpt\")\n"
   ]
  },
  {
   "cell_type": "code",
   "execution_count": null,
   "metadata": {},
   "outputs": [],
   "source": []
  },
  {
   "cell_type": "code",
   "execution_count": null,
   "metadata": {},
   "outputs": [],
   "source": []
  },
  {
   "cell_type": "code",
   "execution_count": null,
   "metadata": {},
   "outputs": [],
   "source": []
  },
  {
   "cell_type": "code",
   "execution_count": null,
   "metadata": {},
   "outputs": [],
   "source": []
  }
 ],
 "metadata": {
  "kernelspec": {
   "display_name": "Python 3",
   "language": "python",
   "name": "python3"
  },
  "language_info": {
   "codemirror_mode": {
    "name": "ipython",
    "version": 3
   },
   "file_extension": ".py",
   "mimetype": "text/x-python",
   "name": "python",
   "nbconvert_exporter": "python",
   "pygments_lexer": "ipython3",
   "version": "3.5.2"
  }
 },
 "nbformat": 4,
 "nbformat_minor": 2
}
